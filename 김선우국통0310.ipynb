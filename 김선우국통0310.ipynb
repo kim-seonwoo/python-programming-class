{
  "nbformat": 4,
  "nbformat_minor": 0,
  "metadata": {
    "colab": {
      "provenance": []
    },
    "kernelspec": {
      "name": "python3",
      "display_name": "Python 3"
    },
    "language_info": {
      "name": "python"
    }
  },
  "cells": [
    {
      "cell_type": "code",
      "execution_count": 1,
      "metadata": {
        "colab": {
          "base_uri": "https://localhost:8080/"
        },
        "id": "gRxKJREm5US-",
        "outputId": "329e1962-8639-4f65-bd90-2891c85c2859"
      },
      "outputs": [
        {
          "output_type": "stream",
          "name": "stdout",
          "text": [
            "a+b\n"
          ]
        }
      ],
      "source": [
        "a=1\n",
        "b=4\n",
        "print(\"a+b\")\n",
        "# a+b가 괄호안에 있으면..\n",
        "# 문자열표현, 큰따옴표, 작은따옴표                "
      ]
    },
    {
      "cell_type": "markdown",
      "source": [
        "수학에서는 변수가 '변할 수 있는 수', 프로그래밍에서는 '어떠한 값을 저장하는 장소.\n",
        "\n",
        "메모리: 변수를 저장하는 물리적 장소\n",
        "메모리 주소: 변수의 저장 위치"
      ],
      "metadata": {
        "id": "v8Ewwh408KMv"
      }
    },
    {
      "cell_type": "code",
      "source": [
        "a=3\n",
        "b=5\n",
        "print(id(a))\n",
        "# 물리적인 메모리 위치 (메모리 주소)"
      ],
      "metadata": {
        "colab": {
          "base_uri": "https://localhost:8080/"
        },
        "id": "Jt3AnMw78dF1",
        "outputId": "32588641-b99c-4e32-d99d-ee00456d2b0e"
      },
      "execution_count": 2,
      "outputs": [
        {
          "output_type": "stream",
          "name": "stdout",
          "text": [
            "140482792167792\n"
          ]
        }
      ]
    },
    {
      "cell_type": "markdown",
      "source": [
        "byte=8bit\n",
        "kb=1024byte\n",
        "mb=1024kb"
      ],
      "metadata": {
        "id": "UBoxPbo_-lrC"
      }
    },
    {
      "cell_type": "code",
      "source": [
        "print(0b11)\n",
        "print(0b11111111)\n",
        "# 2진수 변환법 0b"
      ],
      "metadata": {
        "colab": {
          "base_uri": "https://localhost:8080/"
        },
        "id": "YCA3fGMM-xUo",
        "outputId": "9e9abe59-b0d0-4830-89f9-0138c0e3e99e"
      },
      "execution_count": 6,
      "outputs": [
        {
          "output_type": "stream",
          "name": "stdout",
          "text": [
            "3\n",
            "255\n"
          ]
        }
      ]
    },
    {
      "cell_type": "code",
      "source": [
        "a=3\n",
        "b=4.0\n",
        "c=\"김선우\"\n",
        "d=True\n",
        "print(type(a))\n",
        "print(type(b))\n",
        "print(type(c))\n",
        "print(type(d))"
      ],
      "metadata": {
        "colab": {
          "base_uri": "https://localhost:8080/"
        },
        "id": "B2QXU3jt_vko",
        "outputId": "6d2d779a-0f7f-411a-9783-4f6717e329dc"
      },
      "execution_count": 16,
      "outputs": [
        {
          "output_type": "stream",
          "name": "stdout",
          "text": [
            "<class 'int'>\n",
            "<class 'float'>\n",
            "<class 'str'>\n",
            "<class 'bool'>\n"
          ]
        }
      ]
    },
    {
      "cell_type": "markdown",
      "source": [
        "동적 타이핑: 인터프리터가 알아서 형태를 판단하여 동적으로 메모리 공간 할당."
      ],
      "metadata": {
        "id": "K2NzHjsvDQ1g"
      }
    },
    {
      "cell_type": "code",
      "source": [
        "num_1=5\n",
        "num_2=1\n",
        "\n",
        "print(num_1/num_2)  #나누기 연산자는 실수형으로 반환\n",
        "print(num_1//num_2) #몫 연산자는 정수형으로 반환\n",
        "# 실수형이 하나라도 있으면 결과가 실수형으로 나온다."
      ],
      "metadata": {
        "colab": {
          "base_uri": "https://localhost:8080/"
        },
        "id": "lfqluP_ZELR1",
        "outputId": "b805ef44-dd23-4361-c117-b784ebd016c3"
      },
      "execution_count": 19,
      "outputs": [
        {
          "output_type": "stream",
          "name": "stdout",
          "text": [
            "5.0\n",
            "5\n"
          ]
        }
      ]
    },
    {
      "cell_type": "code",
      "source": [
        "print(int(10.7)) #int()를 사용하면 소수점 이하 내림\n",
        "print(float(10))\n",
        "print(str(10))\n",
        "print(int('10'))\n",
        "print(int('10'))\n",
        "# print(int('10.4')) 먼저 문자형을 float으로 변환시킨 다음, 정수형으로 형변환 해야함.\n",
        "\n",
        "\n"
      ],
      "metadata": {
        "colab": {
          "base_uri": "https://localhost:8080/"
        },
        "id": "c3U50GX-Gh70",
        "outputId": "decca2c1-7bc8-42b5-f53b-f9a34b79d7fa"
      },
      "execution_count": 27,
      "outputs": [
        {
          "output_type": "stream",
          "name": "stdout",
          "text": [
            "10\n",
            "10.0\n",
            "10\n",
            "10\n",
            "10\n"
          ]
        }
      ]
    },
    {
      "cell_type": "markdown",
      "source": [
        "서로 다른 자료형 끼리의 계산은 불가능.\n",
        "\n",
        "하지만 문자형*숫자 계산은 반복 연산자로 처리 되어 계산됨."
      ],
      "metadata": {
        "id": "BH1vufX7IQBn"
      }
    },
    {
      "cell_type": "markdown",
      "source": [
        "03 내장함수(input)"
      ],
      "metadata": {
        "id": "uJKZbJusRFjN"
      }
    },
    {
      "cell_type": "code",
      "source": [
        "# 온도변환 프로그램\n",
        "\n",
        "supsi=float(input('섭씨온도를 입력하세요:'))\n",
        "whasi=(supsi*1.8)+32\n",
        "\n",
        "print(\"섭씨온도:\",supsi)\n",
        "print(\"화씨온도:\",whasi)\n",
        "\n"
      ],
      "metadata": {
        "colab": {
          "base_uri": "https://localhost:8080/"
        },
        "id": "vqHovC8PRL1b",
        "outputId": "3ec8dd52-c686-47b7-d2b2-dcc89e5ab226"
      },
      "execution_count": 32,
      "outputs": [
        {
          "output_type": "stream",
          "name": "stdout",
          "text": [
            "섭씨온도를 입력하세요:36.2\n",
            "섭씨온도: 36.2\n",
            "화씨온도: 97.16000000000001\n"
          ]
        }
      ]
    },
    {
      "cell_type": "markdown",
      "source": [
        "리스트"
      ],
      "metadata": {
        "id": "b3jWq3SeSiks"
      }
    },
    {
      "cell_type": "code",
      "source": [
        "cities=['서울','인천','대구','부산','전남','경북','포항','울산']\n",
        "cities[0:6] #0이상 6미만\n",
        "cities[0:6:2] #0이상 6미만 2간격으로 (step)\n"
      ],
      "metadata": {
        "colab": {
          "base_uri": "https://localhost:8080/"
        },
        "id": "YXjIlcShUfEf",
        "outputId": "0e8405cf-9a5e-4e42-ff60-5d40ca8f9761"
      },
      "execution_count": 50,
      "outputs": [
        {
          "output_type": "execute_result",
          "data": {
            "text/plain": [
              "['서울', '대구', '전남']"
            ]
          },
          "metadata": {},
          "execution_count": 50
        }
      ]
    },
    {
      "cell_type": "code",
      "source": [
        "cities=['서울','인천','대구','부산','전남','경북','포항','울산']\n",
        "cities[::] #전체를 다 출력\n",
        "cities[::-3] #역순으로\n"
      ],
      "metadata": {
        "colab": {
          "base_uri": "https://localhost:8080/"
        },
        "id": "Ky6atg9mV00Z",
        "outputId": "0436c0a2-b991-4df7-bac5-fcbb3b4835db"
      },
      "execution_count": 56,
      "outputs": [
        {
          "output_type": "execute_result",
          "data": {
            "text/plain": [
              "['포항', '울산']"
            ]
          },
          "metadata": {},
          "execution_count": 56
        }
      ]
    },
    {
      "cell_type": "markdown",
      "source": [
        "리스트끼리는 덧셈 연산이 가능하다."
      ],
      "metadata": {
        "id": "FDcVUFxNXABx"
      }
    },
    {
      "cell_type": "code",
      "source": [
        "color1=['blue','grey','tomato']\n",
        "color2=['green','black','teal']\n",
        "\n",
        "color1.append('coral')\n",
        "color1.extend(color2)\n",
        "color1.insert(1,'tan')\n",
        "color1.remove('teal')\n",
        "color1.pop()\n",
        "\n",
        "print(color1)"
      ],
      "metadata": {
        "colab": {
          "base_uri": "https://localhost:8080/"
        },
        "id": "rocUop0qXKnH",
        "outputId": "5699ad12-955f-4167-a904-4c414f248f0d"
      },
      "execution_count": 76,
      "outputs": [
        {
          "output_type": "stream",
          "name": "stdout",
          "text": [
            "['blue', 'tan', 'grey', 'tomato', 'coral', 'green', 'black']\n"
          ]
        }
      ]
    },
    {
      "cell_type": "code",
      "source": [
        "t = [1,2,3] #1,2,3을 변수 t에 패킹\n",
        "a, b,c = t #t에 있는 값을 언패킹\n",
        "print(t,a,b,c)\n",
        "\n",
        "\n",
        "# 언패킹할때 할당 받는 변수의 개수가 다르면 에러!"
      ],
      "metadata": {
        "colab": {
          "base_uri": "https://localhost:8080/"
        },
        "id": "Jbt90--nY2vN",
        "outputId": "566221f9-a046-4964-c844-7695743240c8"
      },
      "execution_count": 83,
      "outputs": [
        {
          "output_type": "stream",
          "name": "stdout",
          "text": [
            "[1, 2, 3] 1 2 3\n"
          ]
        }
      ]
    }
  ]
}